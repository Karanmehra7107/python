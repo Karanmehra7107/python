{
 "cells": [
  {
   "cell_type": "code",
   "execution_count": 10,
   "metadata": {},
   "outputs": [
    {
     "name": "stdout",
     "output_type": "stream",
     "text": [
      "        welcome to our store     \n",
      "\n",
      "our shop has:   \n",
      "\n",
      "apple: $100\n",
      "mango: $200\n",
      "grapes: $300\n",
      "enter 'cancle' to exit  \n",
      "\n",
      "enter your orderapple\n",
      "enter quantity:5\n",
      "enter your ordercancle\n",
      "thnx for visiting:\n",
      "yot total bill is: $500\n"
     ]
    }
   ],
   "source": [
    "items={\"apple\":100,\"mango\":200,\"grapes\":300,}\n",
    "values={\"apple\":10,\"mango\":20,\"grapes\":30}\n",
    "print('        welcome to our store     \\n')\n",
    "print(\"our shop has:   \\n\")\n",
    "for i in items:\n",
    "    print(f\"{i}: ${items[i]}\")\n",
    "print(\"enter 'cancle' to exit  \\n\")\n",
    "bill=0\n",
    "\n",
    "while True:\n",
    "    order=input(\"enter your order\")\n",
    "    order=order.lower()\n",
    "    if order==\"cancle\":\n",
    "        print(\"thnx for visiting:\")\n",
    "        break\n",
    "    elif order in items:\n",
    "        quantity=int(input(\"enter quantity:\"))\n",
    "        bill= bill+(items[order]*quantity)\n",
    "print(f\"yot total bill is: ${bill}\")"
   ]
  },
  {
   "cell_type": "code",
   "execution_count": null,
   "metadata": {},
   "outputs": [],
   "source": []
  },
  {
   "cell_type": "code",
   "execution_count": null,
   "metadata": {},
   "outputs": [],
   "source": []
  }
 ],
 "metadata": {
  "kernelspec": {
   "display_name": "Python 3",
   "language": "python",
   "name": "python3"
  },
  "language_info": {
   "codemirror_mode": {
    "name": "ipython",
    "version": 3
   },
   "file_extension": ".py",
   "mimetype": "text/x-python",
   "name": "python",
   "nbconvert_exporter": "python",
   "pygments_lexer": "ipython3",
   "version": "3.8.3"
  }
 },
 "nbformat": 4,
 "nbformat_minor": 4
}
